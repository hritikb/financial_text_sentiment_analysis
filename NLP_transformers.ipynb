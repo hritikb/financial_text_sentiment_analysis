{
  "nbformat": 4,
  "nbformat_minor": 0,
  "metadata": {
    "colab": {
      "provenance": []
    },
    "kernelspec": {
      "name": "python3",
      "display_name": "Python 3"
    },
    "language_info": {
      "name": "python"
    }
  },
  "cells": [
    {
      "cell_type": "code",
      "source": [
        "import nltk\n",
        "from nltk.tokenize import word_tokenize, sent_tokenize, wordpunct_tokenize, TreebankWordTokenizer, TweetTokenizer, MWETokenizer\n",
        "from nltk.corpus import stopwords\n",
        "from nltk import ngrams\n",
        "import warnings\n",
        "warnings.filterwarnings('ignore')\n",
        "from nltk.stem import WordNetLemmatizer\n",
        "import string\n",
        "from nltk.stem import WordNetLemmatizer\n",
        "from sklearn.preprocessing import LabelEncoder\n",
        "nltk.download('stopwords')\n",
        "nltk.download('punkt')\n",
        "\n",
        "import numpy as np\n",
        "import pandas as pd\n",
        "\n",
        "from collections import Counter\n",
        "# from wordcloud import WordCloud\n",
        "# import matplotlib.pyplot as plt\n",
        "# import seaborn as sns\n",
        "\n",
        "# print(\"\\nStarting preprocessing\\n\")\n",
        "\n",
        "train_corpus = pd.read_csv('project2_training_data.txt', delimiter='\\r\\n', header=None,names=['sentences'], engine='python')\n",
        "train_labels = pd.read_csv('project2_training_data_labels.txt', delimiter='\\r\\n', header=None, names=['labels'], engine='python')\n",
        "\n",
        "df = pd.concat([train_corpus, train_labels], axis=1)\n",
        "\n",
        "pd.set_option('max_colwidth', 600)\n",
        "\n",
        "# Corpus\n",
        "def create_corpus(df):\n",
        "    corpus = []\n",
        "    \n",
        "    for x in df['cleaned'].str.split():\n",
        "        for i in x:\n",
        "            corpus.append(i)\n",
        "    return corpus\n",
        "\n",
        "\n",
        "# Returns Top X frequent non stop words\n",
        "def get_frequent_words(corpus, top_n=10):\n",
        "    dic = dict()\n",
        "    for word in corpus:\n",
        "        if word in dic:\n",
        "            dic[word] += 1\n",
        "        else:\n",
        "            dic[word] = 1\n",
        "\n",
        "    top = sorted(dic.items(), key=lambda x: x[1], reverse=True)[:top_n]\n",
        "\n",
        "    return zip(*top)\n",
        "\n",
        "def lemmatize(df):\n",
        "    lemmatizer = WordNetLemmatizer()\n",
        "    df['cleaned_lemmatized'] = df['cleaned'].apply(lambda x: ' '.join(lemmatizer.lemmatize(word) for word in word_tokenize(x)))\n",
        "    return df\n",
        "\n",
        "# Remove duplicates (3 in the given dataset)\n",
        "dups = df[df.duplicated()]\n",
        "df.drop_duplicates(inplace=True)\n",
        "df.reset_index(drop = True, inplace= True)\n",
        "\n",
        "# Remove stopwords\n",
        "stops = set(stopwords.words('english'))\n",
        "\n",
        "# Keep a few relevant stopwords\n",
        "stopwords = list(set(stopwords.words(\"english\")) - {\"aren't\", 'above', 'couldn', \"couldn't\", 'didn', \"didn't\",'doesn',\"doesn't\", 'don',\"don't\", 'below', 'before', 'down','hadn',\n",
        "                                               \"hadn't\",'hasn',\"hasn't\", 'haven',\"haven't\",\"isn't\", 'isn', 'mightn',\"mightn't\", 'mustn', \"mustn't\", 'needn', \"needn't\", 'more', \n",
        "                                               'further','from','no','nor','not', 'over', 'shan',\"shan't\", 'shouldn',\"shouldn't\", 'to','under', 'up','wasn',\"wasn't\",'weren',\"weren't\",\n",
        "                                               'won',\"won't\",'wouldn', \"wouldn't\",})\n",
        "\n",
        "# Remove punctuations, make lowercase\n",
        "def clean_data(text, stopwords):\n",
        "    tokens = word_tokenize(text.strip())\n",
        "        \n",
        "    lower = [i.lower() for i in tokens]\n",
        "    \n",
        "    clean = [j for j in lower if j not in stopwords]\n",
        "    \n",
        "    punctuations = list(string.punctuation) + ['+', '-', '*', '/']\n",
        "    clean = [k.strip(''.join(punctuations)) for k in clean if k not in punctuations]\n",
        "    if 's' in clean:\n",
        "        clean.remove('s')\n",
        "    return ' '.join(clean)\n",
        "\n",
        "df['cleaned'] = df['sentences'].apply(lambda x: clean_data(x, stopwords))\n",
        "\n",
        "labels = df.labels.values\n",
        "data =df['cleaned'].values\n",
        "\n",
        "# Create corpus of our data\n",
        "corpus = create_corpus(df)\n",
        "\n",
        "# Check most frequent words which are not in stopwords\n",
        "counter = Counter(corpus)\n",
        "most = counter.most_common()[:25]\n",
        "x, y = [], []\n",
        "for word, count in most:\n",
        "    x.append(word)\n",
        "    y.append(count)\n",
        "\n",
        "# Plot the Word Cloud\n",
        "# print(\"x:\",x)\n",
        "# print(\"y:\",y)\n",
        "# plt.figure(figsize=(15,15))\n",
        "# plt.yticks(fontsize=24)#, rotation=90)\n",
        "# plt.xticks(fontsize=20)#, rotation=90)\n",
        "\n",
        "# sns.barplot(x=y, y=x)\n",
        "# plt.show()\n",
        "# plt.savefig('25 most frequent words')\n",
        "\n",
        "'''\n",
        "choice = input('Do you want to look at the word clouds for the different classes?(y/n)\\n')\n",
        "if choice.lower() == 'y':\n",
        "    # Make Wordclouds\n",
        "\n",
        "    # All words\n",
        "    comment_words = ''\n",
        "\n",
        "    # iterate through the csv file\n",
        "    for val in df.cleaned:\n",
        "        \n",
        "        # split the value\n",
        "        tokens = val.split()\n",
        "        \n",
        "        comment_words += \" \".join(tokens)+\" \"\n",
        "        \n",
        "    # wordcloud = WordCloud(width = 800, height = 800,\n",
        "                    # background_color ='white',\n",
        "                    # min_font_size = 10).generate(comment_words)\n",
        "    \n",
        "    # plot the WordCloud image                      \n",
        "    # plt.figure(figsize = (8, 8), facecolor = None)\n",
        "    # plt.imshow(wordcloud)\n",
        "    # plt.title('WordCloud of all words')\n",
        "    # plt.axis(\"off\")\n",
        "    # plt.tight_layout(pad = 0)\n",
        "    # plt.show()\n",
        "\n",
        "    # For Positive & Negative words\n",
        "    pos_words = ''\n",
        "    neg_words = ''\n",
        "\n",
        "    for sentiment in ['positive', 'negative', 'neutral']:\n",
        "        # iterate through the csv file\n",
        "        for val in df[df.labels == sentiment].cleaned:\n",
        "            \n",
        "            # split the value\n",
        "            tokens = val.split()\n",
        "            \n",
        "            pos_words += \" \".join(tokens)+\" \"\n",
        "\n",
        "        # wordcloud = WordCloud(width = 800, height = 800,\n",
        "                        # background_color ='white',\n",
        "                        # min_font_size = 10).generate(pos_words)\n",
        "        \n",
        "        # plot the WordCloud image                      \n",
        "        # plt.figure(figsize = (8, 8), facecolor = None)\n",
        "        # plt.imshow(wordcloud)\n",
        "        # plt.axis(\"off\")\n",
        "        # plt.tight_layout(pad = 0)\n",
        "        # plt.title(f'Word Cloud of {sentiment}ly classed texts\\n\\n', fontsize = 20)\n",
        "        # plt.show()\n",
        "\n",
        "else:\n",
        "    pass\n",
        "'''\n",
        "\n",
        "num_words_per_sentence = df['cleaned'].apply(lambda x: len(nltk.word_tokenize(x)))\n",
        "print('Maxium words in a sentence', max(num_words_per_sentence.values))\n",
        "# fig, (ax1, ax2) = plt.subplots(1, 2, figsize=(15,7))\n",
        "\n",
        "\n",
        "# sns.countplot(x='labels', data=df, ax=ax1)\n",
        "# ax1.set_title('Sentiment Distribution', fontsize=16)\n",
        "# ax2.hist(num_words_per_sentence,bins = 16)\n",
        "# ax2.set_xlabel('The number of words per sentence')\n",
        "# ax2.set_title('Words Distribution', fontsize=16)\n",
        "# plt.show()\n",
        "\n",
        "\n",
        "# Encode the label: positive=2, neutral=1, negative=0\n",
        "le = LabelEncoder()\n",
        "le.fit(df['labels'])\n",
        "df['labels'] = le.transform(df['labels'])\n",
        "\n",
        "print(\"Pre-processing Done!\")"
      ],
      "metadata": {
        "colab": {
          "base_uri": "https://localhost:8080/"
        },
        "id": "VHmGI580kEl2",
        "outputId": "69d537f0-2df1-49bc-a668-fbafda5a5911"
      },
      "execution_count": null,
      "outputs": [
        {
          "output_type": "stream",
          "name": "stderr",
          "text": [
            "[nltk_data] Downloading package stopwords to /root/nltk_data...\n",
            "[nltk_data]   Package stopwords is already up-to-date!\n",
            "[nltk_data] Downloading package punkt to /root/nltk_data...\n",
            "[nltk_data]   Package punkt is already up-to-date!\n"
          ]
        }
      ]
    },
    {
      "cell_type": "code",
      "source": [
        "from keras.preprocessing.text import Tokenizer\n",
        "from keras_preprocessing.sequence import pad_sequences\n",
        "from keras.models import Sequential\n",
        "from keras.layers import Dense, Embedding\n",
        "from sklearn.model_selection import train_test_split\n",
        "from keras.utils.np_utils import to_categorical\n",
        "from keras.callbacks import EarlyStopping\n",
        "from keras.layers import Dropout\n",
        "import re\n",
        "from nltk.corpus import stopwords\n",
        "from nltk import word_tokenize\n",
        "STOPWORDS = set(stopwords.words('english'))\n",
        "from bs4 import BeautifulSoup\n",
        "\n",
        "MAX_NB_WORDS = 6000\n",
        "MAX_SEQUENCE_LENGTH = 50\n",
        "EMBEDDING_DIM = 100"
      ],
      "metadata": {
        "id": "KCsPWrZBdPSy"
      },
      "execution_count": null,
      "outputs": []
    },
    {
      "cell_type": "code",
      "source": [
        "tokenizer = Tokenizer(num_words=MAX_NB_WORDS, filters='!\"#$%&()*+,-./:;<=>?@[\\]^_`{|}~', lower=True)\n",
        "tokenizer.fit_on_texts(df['cleaned'].values)\n",
        "word_index = tokenizer.word_index\n",
        "print('Found %s unique tokens.' % len(word_index))"
      ],
      "metadata": {
        "colab": {
          "base_uri": "https://localhost:8080/"
        },
        "id": "VTmtV6sPmI7p",
        "outputId": "99dc3408-7010-406f-f86d-8d5d20085baa"
      },
      "execution_count": null,
      "outputs": [
        {
          "output_type": "stream",
          "name": "stdout",
          "text": [
            "Found 5386 unique tokens.\n"
          ]
        }
      ]
    },
    {
      "cell_type": "code",
      "source": [
        "X = tokenizer.texts_to_sequences(df['cleaned'].values)\n",
        "X = pad_sequences(X, maxlen=MAX_SEQUENCE_LENGTH)\n",
        "print('Shape of data tensor:', X.shape)"
      ],
      "metadata": {
        "colab": {
          "base_uri": "https://localhost:8080/"
        },
        "id": "TiWw-8XQmKOL",
        "outputId": "2070953b-2a71-49b4-dd31-0412f6ce5a73"
      },
      "execution_count": null,
      "outputs": [
        {
          "output_type": "stream",
          "name": "stdout",
          "text": [
            "Shape of data tensor: (1808, 50)\n"
          ]
        }
      ]
    },
    {
      "cell_type": "code",
      "source": [
        "Y = pd.get_dummies(df['labels']).values\n",
        "print('Shape of label tensor:', Y.shape)"
      ],
      "metadata": {
        "colab": {
          "base_uri": "https://localhost:8080/"
        },
        "id": "iyO-VeeemLY0",
        "outputId": "97c2253f-add9-4c93-9fcc-9063c9c393fd"
      },
      "execution_count": null,
      "outputs": [
        {
          "output_type": "stream",
          "name": "stdout",
          "text": [
            "Shape of label tensor: (1808, 3)\n"
          ]
        }
      ]
    },
    {
      "cell_type": "code",
      "source": [
        "X_train, X_test, Y_train, Y_test = train_test_split(X,Y, test_size = 0.20, random_state = 42)\n",
        "print(X_train.shape,Y_train.shape)\n",
        "print(X_test.shape,Y_test.shape)"
      ],
      "metadata": {
        "colab": {
          "base_uri": "https://localhost:8080/"
        },
        "id": "0eXpXarSmMjy",
        "outputId": "b172e100-9135-4285-961d-5ddc513f250f"
      },
      "execution_count": null,
      "outputs": [
        {
          "output_type": "stream",
          "name": "stdout",
          "text": [
            "(1446, 50) (1446, 3)\n",
            "(362, 50) (362, 3)\n"
          ]
        }
      ]
    },
    {
      "cell_type": "code",
      "source": [
        "import tensorflow as tf\n",
        "from tensorflow import keras\n",
        "from tensorflow.keras import layers"
      ],
      "metadata": {
        "id": "hB66lv-COYxs"
      },
      "execution_count": null,
      "outputs": []
    },
    {
      "cell_type": "code",
      "source": [
        "class TransformerBlock(layers.Layer):\n",
        "    def __init__(self, embed_dim, num_heads, ff_dim, rate=0.1):\n",
        "        super(TransformerBlock, self).__init__()\n",
        "        self.att = layers.MultiHeadAttention(num_heads=num_heads, key_dim=embed_dim)\n",
        "        self.ffn = keras.Sequential(\n",
        "            [layers.Dense(ff_dim, activation=\"relu\"), layers.Dense(embed_dim),]\n",
        "        )\n",
        "        self.layernorm1 = layers.LayerNormalization(epsilon=1e-6)\n",
        "        self.layernorm2 = layers.LayerNormalization(epsilon=1e-6)\n",
        "        self.dropout1 = layers.Dropout(rate)\n",
        "        self.dropout2 = layers.Dropout(rate)\n",
        "\n",
        "    def call(self, inputs, training):\n",
        "        attn_output = self.att(inputs, inputs)\n",
        "        attn_output = self.dropout1(attn_output, training=training)\n",
        "        out1 = self.layernorm1(inputs + attn_output)\n",
        "        ffn_output = self.ffn(out1)\n",
        "        ffn_output = self.dropout2(ffn_output, training=training)\n",
        "        return self.layernorm2(out1 + ffn_output)"
      ],
      "metadata": {
        "id": "t6wvF7w5OZaw"
      },
      "execution_count": null,
      "outputs": []
    },
    {
      "cell_type": "code",
      "source": [
        "class TokenAndPositionEmbedding(layers.Layer):\n",
        "    def __init__(self, maxlen, vocab_size, embed_dim):\n",
        "        super(TokenAndPositionEmbedding, self).__init__()\n",
        "        self.token_emb = layers.Embedding(input_dim=vocab_size, output_dim=embed_dim)\n",
        "        self.pos_emb = layers.Embedding(input_dim=maxlen, output_dim=embed_dim)\n",
        "\n",
        "    def call(self, x):\n",
        "        maxlen = tf.shape(x)[-1]\n",
        "        positions = tf.range(start=0, limit=maxlen, delta=1)\n",
        "        positions = self.pos_emb(positions)\n",
        "        x = self.token_emb(x)\n",
        "        return x + positions"
      ],
      "metadata": {
        "id": "TaNRn5K9OfB3"
      },
      "execution_count": null,
      "outputs": []
    },
    {
      "cell_type": "code",
      "source": [
        "print(len(X_train), \"Training sequences\")"
      ],
      "metadata": {
        "colab": {
          "base_uri": "https://localhost:8080/"
        },
        "id": "X-Ci32oOOkXp",
        "outputId": "c8fd2330-e98b-406a-ef8f-021d92acc24e"
      },
      "execution_count": null,
      "outputs": [
        {
          "output_type": "stream",
          "name": "stdout",
          "text": [
            "1446 Training sequences\n"
          ]
        }
      ]
    },
    {
      "cell_type": "code",
      "source": [
        "embed_dim = 32  \n",
        "num_heads = 2 \n",
        "ff_dim = 32  \n",
        "\n",
        "inputs = layers.Input(shape=(MAX_SEQUENCE_LENGTH,))\n",
        "embedding_layer = TokenAndPositionEmbedding(MAX_SEQUENCE_LENGTH, MAX_NB_WORDS, embed_dim)\n",
        "x = embedding_layer(inputs)\n",
        "\n",
        "transformer_block = TransformerBlock(embed_dim, num_heads, ff_dim)\n",
        "x = transformer_block(x)\n",
        "x = layers.GlobalAveragePooling1D()(x)\n",
        "x = layers.Dropout(0.1)(x)\n",
        "x = layers.Dense(20, activation=\"relu\")(x)\n",
        "x = layers.Dropout(0.1)(x)\n",
        "outputs = layers.Dense(3, activation=\"softmax\")(x)\n",
        "\n",
        "model = keras.Model(inputs=inputs, outputs=outputs)\n",
        "model.compile(optimizer=\"adam\", loss=\"categorical_crossentropy\", metrics=[\"accuracy\"])"
      ],
      "metadata": {
        "id": "R1OD5GqYQYOP"
      },
      "execution_count": null,
      "outputs": []
    },
    {
      "cell_type": "code",
      "source": [
        "print(model.summary())"
      ],
      "metadata": {
        "colab": {
          "base_uri": "https://localhost:8080/"
        },
        "id": "HYy5Xiy9SYU8",
        "outputId": "7cde1f3e-0d00-49d3-b314-0524ed9f2581"
      },
      "execution_count": null,
      "outputs": [
        {
          "output_type": "stream",
          "name": "stdout",
          "text": [
            "Model: \"model_2\"\n",
            "_________________________________________________________________\n",
            " Layer (type)                Output Shape              Param #   \n",
            "=================================================================\n",
            " input_3 (InputLayer)        [(None, 50)]              0         \n",
            "                                                                 \n",
            " token_and_position_embeddin  (None, 50, 32)           193600    \n",
            " g_2 (TokenAndPositionEmbedd                                     \n",
            " ing)                                                            \n",
            "                                                                 \n",
            " transformer_block_2 (Transf  (None, 50, 32)           10656     \n",
            " ormerBlock)                                                     \n",
            "                                                                 \n",
            " global_average_pooling1d_2   (None, 32)               0         \n",
            " (GlobalAveragePooling1D)                                        \n",
            "                                                                 \n",
            " dropout_10 (Dropout)        (None, 32)                0         \n",
            "                                                                 \n",
            " dense_10 (Dense)            (None, 20)                660       \n",
            "                                                                 \n",
            " dropout_11 (Dropout)        (None, 20)                0         \n",
            "                                                                 \n",
            " dense_11 (Dense)            (None, 3)                 63        \n",
            "                                                                 \n",
            "=================================================================\n",
            "Total params: 204,979\n",
            "Trainable params: 204,979\n",
            "Non-trainable params: 0\n",
            "_________________________________________________________________\n",
            "None\n"
          ]
        }
      ]
    },
    {
      "cell_type": "code",
      "source": [
        "epochs = 5\n",
        "batch_size = 64\n",
        "history = model.fit(X_train, Y_train, epochs=epochs, batch_size=batch_size,validation_split=0.1,callbacks=[EarlyStopping(monitor='val_loss', patience=3, min_delta=0.0001)])"
      ],
      "metadata": {
        "colab": {
          "base_uri": "https://localhost:8080/"
        },
        "id": "oYpzJbarQmfn",
        "outputId": "b7286322-9aa0-4dce-a04b-89f20eaf17f2"
      },
      "execution_count": null,
      "outputs": [
        {
          "output_type": "stream",
          "name": "stdout",
          "text": [
            "Epoch 1/5\n",
            "21/21 [==============================] - 3s 60ms/step - loss: 0.8981 - accuracy: 0.6188 - val_loss: 0.7809 - val_accuracy: 0.6690\n",
            "Epoch 2/5\n",
            "21/21 [==============================] - 1s 43ms/step - loss: 0.7626 - accuracy: 0.6795 - val_loss: 0.6749 - val_accuracy: 0.7517\n",
            "Epoch 3/5\n",
            "21/21 [==============================] - 1s 43ms/step - loss: 0.5967 - accuracy: 0.7579 - val_loss: 0.5913 - val_accuracy: 0.7655\n",
            "Epoch 4/5\n",
            "21/21 [==============================] - 1s 44ms/step - loss: 0.4509 - accuracy: 0.8155 - val_loss: 0.7808 - val_accuracy: 0.6414\n",
            "Epoch 5/5\n",
            "21/21 [==============================] - 1s 43ms/step - loss: 0.3826 - accuracy: 0.8386 - val_loss: 0.5288 - val_accuracy: 0.7931\n"
          ]
        }
      ]
    },
    {
      "cell_type": "code",
      "source": [
        "accr = model.evaluate(X_test,Y_test)\n",
        "print('Test set\\n  Loss: {:0.3f}\\n  Accuracy: {:0.3f}'.format(accr[0],accr[1]))"
      ],
      "metadata": {
        "id": "VjgKZlCFQsAQ",
        "colab": {
          "base_uri": "https://localhost:8080/"
        },
        "outputId": "a765716d-5227-4477-f64a-676827444a0e"
      },
      "execution_count": null,
      "outputs": [
        {
          "output_type": "stream",
          "name": "stdout",
          "text": [
            "12/12 [==============================] - 0s 10ms/step - loss: 0.4895 - accuracy: 0.7901\n",
            "Test set\n",
            "  Loss: 0.489\n",
            "  Accuracy: 0.790\n"
          ]
        }
      ]
    },
    {
      "cell_type": "code",
      "source": [
        "import matplotlib.pyplot as plt"
      ],
      "metadata": {
        "id": "xdfy5gu9lUF5"
      },
      "execution_count": null,
      "outputs": []
    },
    {
      "cell_type": "code",
      "source": [
        "plt.title('Loss')\n",
        "plt.plot(history.history['loss'], label='train')\n",
        "plt.plot(history.history['val_loss'], label='test')\n",
        "plt.legend()\n",
        "plt.show();"
      ],
      "metadata": {
        "colab": {
          "base_uri": "https://localhost:8080/",
          "height": 281
        },
        "id": "RIMZlcKva8kO",
        "outputId": "a914fd93-01c4-4a08-a6b3-8f84259784cc"
      },
      "execution_count": null,
      "outputs": [
        {
          "output_type": "display_data",
          "data": {
            "text/plain": [
              "<Figure size 432x288 with 1 Axes>"
            ],
            "image/png": "[encoded data removed]"
          },
          "metadata": {
            "needs_background": "light"
          }
        }
      ]
    },
    {
      "cell_type": "code",
      "source": [
        "plt.title('Accuracy')\n",
        "plt.plot(history.history['accuracy'], label='train')\n",
        "plt.plot(history.history['val_accuracy'], label='test')\n",
        "plt.legend()\n",
        "plt.show();"
      ],
      "metadata": {
        "colab": {
          "base_uri": "https://localhost:8080/",
          "height": 281
        },
        "id": "VimD9YGSa_Sy",
        "outputId": "68151802-249e-4580-f2ba-dfe318987761"
      },
      "execution_count": null,
      "outputs": [
        {
          "output_type": "display_data",
          "data": {
            "text/plain": [
              "<Figure size 432x288 with 1 Axes>"
            ],
            "image/png": "[encoded data removed]"
          },
          "metadata": {
            "needs_background": "light"
          }
        }
      ]
    },
    {
      "cell_type": "code",
      "source": [],
      "metadata": {
        "id": "CkuaxbnMbBQr"
      },
      "execution_count": null,
      "outputs": []
    }
  ]
}